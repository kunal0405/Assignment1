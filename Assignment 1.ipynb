{
 "cells": [
  {
   "cell_type": "code",
   "execution_count": null,
   "id": "ac780629",
   "metadata": {},
   "outputs": [],
   "source": [
    "Note : The Fibonacci Sequence is the series of numbers :\n",
    "\n",
    "0, 1, 1, 2, 3, 5, 8, 13, 21, ....\n",
    "\n",
    "Every next number is found by adding up the two numbers before it.\n",
    "\n",
    "Expected Output : 1 1 2 3 5 8 13 21 34\n",
    "\n"
   ]
  },
  {
   "cell_type": "code",
   "execution_count": 12,
   "id": "c5d98f24",
   "metadata": {},
   "outputs": [
    {
     "name": "stdout",
     "output_type": "stream",
     "text": [
      "Enter how many number you want in series:9\n",
      "0\n",
      "1\n",
      "1\n",
      "2\n",
      "3\n",
      "5\n",
      "8\n",
      "13\n",
      "21\n",
      "8"
     ]
    }
   ],
   "source": [
    "x=int(input(\"Enter how many number you want in series:\"))\n",
    "\n",
    "first=0\n",
    "second=1\n",
    "\n",
    "for i in range(x):\n",
    "    print(first)\n",
    "    base=first\n",
    "    first=second\n",
    "    second=base+second\n",
    "\n",
    "    "
   ]
  },
  {
   "cell_type": "code",
   "execution_count": 9,
   "id": "41a4db96",
   "metadata": {},
   "outputs": [
    {
     "name": "stdout",
     "output_type": "stream",
     "text": [
      "Enter the string which you want to reverse:Edyoda\n",
      "your reverse string is:  adoydE\n"
     ]
    }
   ],
   "source": [
    "x=input(\"Enter the string which you want to reverse:\")\n",
    "print(\"your reverse string is: \",x[-1::-1])"
   ]
  },
  {
   "cell_type": "code",
   "execution_count": null,
   "id": "2c33aef8",
   "metadata": {},
   "outputs": [],
   "source": [
    "Write a Python program to count the number of even and odd numbers from a series of numbers.\n",
    "\n",
    "Sample numbers : numbers = (1, 2, 3, 4, 5, 6, 7, 8, 9) \n",
    "\n",
    "Expected Output :\n",
    "\n",
    "Number of even numbers : 4\n",
    "\n",
    "Number of odd numbers : 5"
   ]
  },
  {
   "cell_type": "code",
   "execution_count": 21,
   "id": "43da8bcf",
   "metadata": {},
   "outputs": [
    {
     "name": "stdout",
     "output_type": "stream",
     "text": [
      "Numbers of even number: 4\n",
      "Numbers of odd number: 5\n"
     ]
    }
   ],
   "source": [
    "numbers =(1,2,3,4,5,6,7,8,9)\n",
    "count_even=0\n",
    "count_odd=0\n",
    "\n",
    "for num in numbers:\n",
    "    if num%2==0:\n",
    "        count_even+=1\n",
    "        \n",
    "    elif num%2!=0:\n",
    "        count_odd+=1\n",
    "print(\"Numbers of even number:\",count_even)\n",
    "print(\"Numbers of odd number:\",count_odd)"
   ]
  }
 ],
 "metadata": {
  "kernelspec": {
   "display_name": "Python 3 (ipykernel)",
   "language": "python",
   "name": "python3"
  },
  "language_info": {
   "codemirror_mode": {
    "name": "ipython",
    "version": 3
   },
   "file_extension": ".py",
   "mimetype": "text/x-python",
   "name": "python",
   "nbconvert_exporter": "python",
   "pygments_lexer": "ipython3",
   "version": "3.9.6"
  }
 },
 "nbformat": 4,
 "nbformat_minor": 5
}
